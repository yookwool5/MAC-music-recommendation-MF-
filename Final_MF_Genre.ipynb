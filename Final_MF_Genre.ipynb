{
 "cells": [
  {
   "cell_type": "code",
   "execution_count": 1,
   "id": "b10fa9d2-9ba9-41d8-8d56-25e9d76c2fd2",
   "metadata": {},
   "outputs": [],
   "source": [
    "import pandas as pd\n",
    "import numpy as np\n",
    "from sklearn.decomposition import TruncatedSVD\n",
    "from tqdm import tqdm\n",
    "from arena_util import load_json \n",
    "from arena_util import write_json\n",
    "from scipy.sparse import csr_matrix \n",
    "from collections import Counter\n",
    "import random\n",
    "import pickle"
   ]
  },
  {
   "cell_type": "code",
   "execution_count": 2,
   "id": "b6538867-ae0e-4068-9353-3030eaa53320",
   "metadata": {},
   "outputs": [],
   "source": [
    "train = load_json(\"./arena_data/orig/train.json\")\n",
    "song_meta_json = load_json('./song_meta.json')\n",
    "question = load_json(\"./arena_data/questions/val.json\")\n",
    "meta = pd.read_json('./song_meta.json')\n",
    "genre_table = load_json('./genre_gn_all.json')\n",
    "answer = load_json('./arena_data/answers/val.json')"
   ]
  },
  {
   "cell_type": "code",
   "execution_count": 7,
   "id": "528662f8-fb70-45b2-9be3-a2cc3f307e58",
   "metadata": {},
   "outputs": [
    {
     "name": "stdout",
     "output_type": "stream",
     "text": [
      "89531 13559\n"
     ]
    }
   ],
   "source": [
    "for ply1 in train :\n",
    "    if len(ply1['songs']) < 10 :\n",
    "        train.remove(ply1)\n",
    "for ply2 in question :        \n",
    "    if len(ply2['songs']) < 10 :\n",
    "        question.remove(ply2)\n",
    "\n",
    "print(len(train), len(question))"
   ]
  },
  {
   "cell_type": "code",
   "execution_count": 8,
   "id": "e750dd03-2805-48bb-9fb8-6badb826971d",
   "metadata": {},
   "outputs": [],
   "source": [
    "sub_train = train[:2000]\n",
    "sub_question = question[:300]\n",
    "q_ids = set([ply[\"id\"] for ply in sub_question])\n",
    "sub_val = [ply for ply in answer if ply[\"id\"] in q_ids]"
   ]
  },
  {
   "cell_type": "code",
   "execution_count": 9,
   "id": "142cad84-0b72-41c4-be4b-35ad507d8a65",
   "metadata": {},
   "outputs": [],
   "source": [
    "dtl_genre = genre_table.copy()\n",
    "for x in genre_table:\n",
    "    if x[-1] == '1' or '0' in genre_table[x] :\n",
    "        dtl_genre.pop(x)\n",
    "dtl_genre.pop('GN0305', 'GN2604')\n",
    "dtl_genre_ids = list(dtl_genre.keys()) ### 170개"
   ]
  },
  {
   "cell_type": "code",
   "execution_count": 10,
   "id": "a2dca723-e0f6-41fb-aad1-9be22bcb697a",
   "metadata": {},
   "outputs": [],
   "source": [
    "def get_genre(ply) :\n",
    "    table_mf = meta[meta['id'].apply(lambda x : x in ply)]\n",
    "    g_table_mf = table_mf['song_gn_gnr_basket']\n",
    "    g_list_mf = g_table_mf.values.flatten().tolist()\n",
    "    g_list_mf = [ x for gs in g_list_mf for x in gs]\n",
    "    return g_list_mf\n",
    "\n",
    "def get_dtl_genre(ply):\n",
    "    table_mf = meta[meta['id'].apply(lambda x : x in ply)]\n",
    "    g_table_mf = table_mf['song_gn_dtl_gnr_basket']\n",
    "    g_list_mf = g_table_mf.values.flatten().tolist()\n",
    "    g_list_mf = [x for gs in g_list_mf for x in gs]\n",
    "    g_list_mf = list(filter(lambda x: x in dtl_genre_ids, g_list_mf))\n",
    "    return g_list_mf\n",
    "\n",
    "def get_gnr_comb(ply):\n",
    "    g_g_c = Counter(get_genre(ply))\n",
    "    g_g_c.update(Counter(get_dtl_genre(ply)))\n",
    "    return g_g_c\n",
    "\n",
    "def get_mat(train):\n",
    "    train_matrix = np.zeros(shape = (len(train), len(song_meta_json)))\n",
    "    for index, playlist in enumerate(train):\n",
    "        songs = playlist[\"songs\"]\n",
    "        for id in songs :\n",
    "            train_matrix[index][id] = 1\n",
    "    return train_matrix"
   ]
  },
  {
   "cell_type": "code",
   "execution_count": 11,
   "id": "02c8b479-d0cd-4407-a3c7-389c7766b7cf",
   "metadata": {},
   "outputs": [],
   "source": [
    "train_matrix = get_mat(sub_train)\n",
    "svd_1 = TruncatedSVD(64)\n",
    "csr_train_1 = csr_matrix(train_matrix)\n",
    "csr_tsvd_1 = svd_1.fit_transform(csr_train_1)\n",
    "reconstructed_matrix_1 = csr_tsvd_1 @ svd_1.components_\n",
    "csr_rec_1 = csr_matrix(reconstructed_matrix_1)"
   ]
  },
  {
   "cell_type": "code",
   "execution_count": 12,
   "id": "ca3dd41a-dd52-4845-9880-256e26b1e71b",
   "metadata": {},
   "outputs": [
    {
     "name": "stderr",
     "output_type": "stream",
     "text": [
      "300it [01:18,  3.83it/s]\n"
     ]
    }
   ],
   "source": [
    "def plyXsong(train_matrix, question, rec, howmany) :\n",
    "    answers = []\n",
    "    for i, ply in tqdm(enumerate(question)) :\n",
    "        q_mean_vec = np.array(np.mean(rec[:, ply['songs']], axis=1))\n",
    "        similarity = rec.T @ q_mean_vec\n",
    "        similarity[ply['songs']] = 0\n",
    "        ind = np.argsort(-similarity, axis = 0 )\n",
    "        indices = list(ind[:howmany].reshape(howmany))\n",
    "        answers.append({\n",
    "            \"id\" : ply['id'],\n",
    "            \"songs\" : indices\n",
    "        })\n",
    "    return answers\n",
    "\n",
    "ans1 = plyXsong(train_matrix, sub_question, csr_rec_1, 1000)"
   ]
  },
  {
   "cell_type": "code",
   "execution_count": 14,
   "id": "7b6c34cb-f78b-4f64-bea3-c2688db1c089",
   "metadata": {},
   "outputs": [
    {
     "name": "stderr",
     "output_type": "stream",
     "text": [
      "100%|██████████| 300/300 [01:49<00:00,  2.75it/s]\n"
     ]
    }
   ],
   "source": [
    "subq_genre = {}\n",
    "for ply in tqdm(sub_question) :\n",
    "    gnr = get_genre(ply['songs'])\n",
    "    power_genre = list(Counter(gnr))[0]\n",
    "    dtlgnr = get_dtl_genre(ply['songs'])\n",
    "    if len(dtlgnr) == 0 :\n",
    "        power_dtlgenre = None\n",
    "    else:\n",
    "        power_dtlgenre = list(Counter(dtlgnr))[0]\n",
    "    subq_genre[ply['id']] = (power_genre, power_dtlgenre)\n"
   ]
  },
  {
   "cell_type": "code",
   "execution_count": 15,
   "id": "d9aacc01-cffa-4984-8e3a-561a6838ce8e",
   "metadata": {},
   "outputs": [
    {
     "name": "stderr",
     "output_type": "stream",
     "text": [
      "100%|██████████| 707989/707989 [00:27<00:00, 26069.77it/s]\n"
     ]
    }
   ],
   "source": [
    "num_songs = len(meta)\n",
    "\n",
    "s_g_matrix = np.zeros((len(dtl_genre), num_songs))\n",
    "\n",
    "for i in tqdm(range(num_songs)):\n",
    "    dtlgns = meta.iloc[i]['song_gn_dtl_gnr_basket']\n",
    "    gn_idx = [dtl_genre_ids.index(g) for g in dtlgns if g[-1] != '1' and '0' not in genre_table[g]]\n",
    "    s_g_matrix[gn_idx, i] += 1\n",
    "    gns = meta.iloc[i]['song_gn_gnr_basket']\n",
    "    if len(gns) == 0 :\n",
    "        pass\n",
    "    elif gns[0] not in dtl_genre_ids:\n",
    "        pass\n",
    "    else :\n",
    "        g_idx = dtl_genre_ids.index(gns[0])\n",
    "    s_g_matrix[g_idx, i] += 1\n"
   ]
  },
  {
   "cell_type": "code",
   "execution_count": 16,
   "id": "b4ce580b-7985-446a-b5ec-b22dcd16e162",
   "metadata": {},
   "outputs": [],
   "source": [
    "svd_2 = TruncatedSVD(32)\n",
    "csr_train_2 = csr_matrix(s_g_matrix)\n",
    "csr_tsvd_2 = svd_2.fit_transform(csr_train_2)\n",
    "rec_s_g = csr_tsvd_2 @ svd_2.components_\n"
   ]
  },
  {
   "cell_type": "code",
   "execution_count": 17,
   "id": "efd350a7-84f0-458e-aadf-cf601530cc7d",
   "metadata": {},
   "outputs": [],
   "source": [
    "def genre_filter(rec, ply, genre, howmany):\n",
    "    gnr_index = dtl_genre_ids.index(genre)\n",
    "    gnr_vector = rec[gnr_index, :]\n",
    "    ind = np.argsort(-gnr_vector[ply])\n",
    "    indices = list(ind[:howmany].reshape(howmany))\n",
    "    ans = [ ply[i] for i in indices ]\n",
    "    return ans"
   ]
  },
  {
   "cell_type": "code",
   "execution_count": 27,
   "id": "620c68e1-a6ed-4958-8f4e-b3408993548f",
   "metadata": {},
   "outputs": [
    {
     "data": {
      "text/plain": [
       "dict_items([('GN0300', 5), ('GN0500', 5), ('GN0600', 5), ('GN1300', 1), ('GN1200', 5), ('GN1000', 4), ('GN0100', 2), ('GN0900', 1), ('GN0303', 3), ('GN0503', 4), ('GN1304', 1), ('GN1302', 1), ('GN1004', 1), ('GN0304', 1), ('GN0505', 1), ('GN1003', 1), ('GN0902', 1), ('GN1202', 1)])"
      ]
     },
     "execution_count": 27,
     "metadata": {},
     "output_type": "execute_result"
    }
   ],
   "source": [
    "get_gnr_comb(my_ply['songs']).items()"
   ]
  },
  {
   "cell_type": "code",
   "execution_count": 30,
   "id": "41a78999-9347-4a44-a3f1-871ae24e1b8e",
   "metadata": {},
   "outputs": [
    {
     "data": {
      "text/plain": [
       "[5, 5, 5, 1, 5, 4, 2, 1, 3, 4, 1, 1, 1, 1, 1, 1, 1, 1]"
      ]
     },
     "execution_count": 30,
     "metadata": {},
     "output_type": "execute_result"
    }
   ],
   "source": [
    "list(get_gnr_comb(my_ply['songs']).values())"
   ]
  },
  {
   "cell_type": "code",
   "execution_count": 81,
   "id": "fe3af32b-37a8-43b4-80bb-4af830c6c6f5",
   "metadata": {},
   "outputs": [
    {
     "name": "stderr",
     "output_type": "stream",
     "text": [
      "300it [03:29,  1.43it/s]\n"
     ]
    }
   ],
   "source": [
    "ansW = []\n",
    "\n",
    "for q_ply, i_ply in tqdm((zip(sub_question, ans1))) :\n",
    "    genre_combination = list(get_gnr_comb(q_ply['songs']).keys())\n",
    "    genre_weight = list(get_gnr_comb(q_ply['songs']).values())\n",
    "    genre_idx = [dtl_genre_ids.index(genre) for genre in genre_combination if genre in dtl_genre_ids]\n",
    "    score = np.zeros(len(meta))\n",
    "    for i,genre_id in enumerate(genre_idx):\n",
    "        genre_vec = rec_s_g[genre_id, :]\n",
    "        score += genre_vec * genre_weight[i]\n",
    "    target_score = score[i_ply['songs']]\n",
    "    ind = np.argsort(-target_score)[:30]\n",
    "    indices = [ i_ply['songs'][i] for i in ind ]\n",
    "    ansW.append({\n",
    "            \"id\" : i_ply['id'],\n",
    "            \"songs\" : indices\n",
    "        })\n"
   ]
  },
  {
   "cell_type": "code",
   "execution_count": null,
   "id": "55ef9015-4048-465a-a3e5-0c2d831b39b8",
   "metadata": {},
   "outputs": [],
   "source": [
    "ans3 = []\n",
    "for ply in ans2 :\n",
    "    genre3 = subq_genre[ply['id']][1]\n",
    "    if genre3 == None:\n",
    "        ind3 = ply['songs'][:30]\n",
    "    else:\n",
    "        ind3 = genre_filter(rec_s_g, ply['songs'], genre3, 30)\n",
    "    ans3.append({\n",
    "            \"id\" : ply['id'],\n",
    "            \"songs\" : ind3\n",
    "        })"
   ]
  },
  {
   "cell_type": "code",
   "execution_count": 18,
   "id": "32c030f2-b43b-4d4b-8c6a-ae0c636c8840",
   "metadata": {},
   "outputs": [],
   "source": [
    "# -*- coding: utf-8 -*-\n",
    "import fire\n",
    "import numpy as np\n",
    "\n",
    "from arena_util import load_json\n",
    "\n",
    "\n",
    "class ArenaEvaluator:\n",
    "    def _idcg(self, l):\n",
    "        return sum((1.0 / np.log(i + 2) for i in range(l)))\n",
    "\n",
    "    def __init__(self):\n",
    "        self._idcgs = [self._idcg(i) for i in range(101)]\n",
    "\n",
    "    def _ndcg(self, gt, rec, k):\n",
    "        dcg = 0.0\n",
    "        for i, r in enumerate(rec):\n",
    "            if r in gt:\n",
    "                dcg += 1.0 / np.log(i + 2)\n",
    "            if i == k-1 :\n",
    "                break\n",
    "\n",
    "        return dcg / self._idcgs[len(gt)]\n",
    "    \n",
    "    def mAP(self, gt, rec, k):\n",
    "        score = []\n",
    "        suc = 0\n",
    "        for i, r in enumerate(rec):\n",
    "            user_map = []\n",
    "            if r in gt:\n",
    "                suc += 1\n",
    "                a = suc / (i + 1)\n",
    "                user_map.append(a)\n",
    "            if user_map:  \n",
    "                score.append(sum(user_map) / len(user_map))\n",
    "            if i == k-1 :\n",
    "                break\n",
    "        mAP = sum(score) / len(score) if score else 0 \n",
    "        return mAP\n",
    "\n",
    "\n",
    "    def _eval(self, gt_playlists, rec_playlists, k):        \n",
    "        gt_dict = {g[\"id\"]: g for g in gt_playlists}\n",
    "\n",
    "        gt_ids = set([g[\"id\"] for g in gt_playlists])\n",
    "        rec_ids = set([r[\"id\"] for r in rec_playlists])\n",
    "\n",
    "        if gt_ids != rec_ids:\n",
    "            print(len(gt_ids), len(rec_ids))\n",
    "            raise Exception(\"결과의 플레이리스트 수가 올바르지 않습니다.\")\n",
    "\n",
    "        rec_song_counts = [len(p[\"songs\"]) for p in rec_playlists]\n",
    "\n",
    "        if set(rec_song_counts) != set([k]):\n",
    "            raise Exception(\"추천 곡 결과의 개수가 맞지 않습니다.\")\n",
    "\n",
    "        rec_unique_song_counts = [len(set(p[\"songs\"])) for p in rec_playlists]\n",
    "\n",
    "        if set(rec_unique_song_counts) != set([k]):\n",
    "            raise Exception(\"한 플레이리스트에 중복된 곡 추천은 허용되지 않습니다.\")\n",
    "\n",
    "        music_ndcg = 0.0\n",
    "\n",
    "        for rec in rec_playlists:\n",
    "            gt = gt_dict[rec[\"id\"]]\n",
    "            music_ndcg += self._ndcg(gt[\"songs\"], rec[\"songs\"][:k], k)\n",
    "\n",
    "        music_ndcg = music_ndcg / len(rec_playlists)\n",
    "        \n",
    "        music_mAP = 0\n",
    "        \n",
    "        for rec in rec_playlists:\n",
    "            gt = gt_dict[rec[\"id\"]]\n",
    "            music_mAP += self.mAP(gt[\"songs\"], rec[\"songs\"][:k], k)\n",
    "                                                   \n",
    "        music_mAP = music_mAP / len(rec_playlists)                                    \n",
    "\n",
    "        return music_ndcg, music_mAP\n",
    "\n",
    "    def evaluate(self, gt_playlists, rec_playlists, k):\n",
    "        try:\n",
    "            music_ndcg, mAP = self._eval(gt_playlists, rec_playlists, k)\n",
    "            print(f\"nDCG: {music_ndcg:.6}\")\n",
    "            print(f\"mAP: {mAP:.6}\")\n",
    "        except Exception as e:\n",
    "            print(e)\n",
    "\n",
    "eval = ArenaEvaluator()"
   ]
  },
  {
   "cell_type": "code",
   "execution_count": 19,
   "id": "ce974a33-cf6e-4d61-afae-e225253390ce",
   "metadata": {},
   "outputs": [
    {
     "name": "stdout",
     "output_type": "stream",
     "text": [
      "nDCG: 0.123731\n",
      "mAP: 0.0532218\n"
     ]
    }
   ],
   "source": [
    "eval.evaluate(sub_val, ans1, 1000)"
   ]
  },
  {
   "cell_type": "code",
   "execution_count": 37,
   "id": "d26b4f73-b574-4ca4-b7fe-cdc3efe87ada",
   "metadata": {},
   "outputs": [
    {
     "name": "stdout",
     "output_type": "stream",
     "text": [
      "nDCG: 0.0321352\n",
      "mAP: 0.029647\n"
     ]
    }
   ],
   "source": [
    "eval.evaluate(sub_val, ans2, 200)"
   ]
  },
  {
   "cell_type": "code",
   "execution_count": 85,
   "id": "6ddcaf20-6c2e-44ff-8eed-781aa75bb5c8",
   "metadata": {},
   "outputs": [
    {
     "name": "stdout",
     "output_type": "stream",
     "text": [
      "nDCG: 0.014608\n",
      "mAP: 0.0489869\n"
     ]
    }
   ],
   "source": [
    "eval.evaluate(sub_val, ansW, 30)"
   ]
  },
  {
   "cell_type": "code",
   "execution_count": 21,
   "id": "5b528818-060d-4ef7-9e12-7109b61dd0f9",
   "metadata": {},
   "outputs": [],
   "source": [
    "#### 현 input playlist의 특성 : 힙합 / 락이 거의 반반으로 이루어져있지만, 일반적으로 힙합 곡들이 훨씬 대중적인 픽\n",
    "my_songs = [88186, 166190, 115874, 125149, 13123, 581746,\n",
    "            264929, 705815, 161919, 1546, 661432, 463577,\n",
    "            535405, 35945, 582314, 182243, 64895, 211995, \n",
    "            616542, 251980, 583072, 707295] \n",
    "my_ply = {\n",
    "    'id' : 62827586,\n",
    "    'plylst_title' : 'my_ply',\n",
    "    'songs' : my_songs ,\n",
    "    'like_cnt' : 12,\n",
    "    'updt_date' : '2024-03-25 20:22:34.000'\n",
    "    \n",
    "}"
   ]
  },
  {
   "cell_type": "code",
   "execution_count": 37,
   "id": "90090c27-750a-429d-acd7-5749cee99640",
   "metadata": {},
   "outputs": [
    {
     "name": "stderr",
     "output_type": "stream",
     "text": [
      "1it [00:04,  4.97s/it]\n"
     ]
    }
   ],
   "source": [
    "my_ans1 = plyXsong(train_matrix, [my_ply], csr_rec_1, 1000)"
   ]
  },
  {
   "cell_type": "code",
   "execution_count": 95,
   "id": "72a290fe-26b4-49c1-b08e-d722d713c011",
   "metadata": {},
   "outputs": [],
   "source": [
    "my_ans2 = []\n",
    "for ply in my_ans1 :\n",
    "    genre2 = 'GN1300'\n",
    "    ind2 = genre_filter(rec_s_g, ply['songs'], genre2, 200)\n",
    "    my_ans2.append({\n",
    "            \"id\" : ply['id'],\n",
    "            \"songs\" : ind2\n",
    "        })\n",
    "my_ans3 = []\n",
    "\n",
    "for ply in my_ans2 :\n",
    "    genre3 = 'GN1100'\n",
    "    if genre3 == None:\n",
    "        ind3 = ply['songs'][:30]\n",
    "    else:\n",
    "        ind3 = genre_filter(rec_s_g, ply['songs'], genre3, 30)\n",
    "    my_ans3.append({\n",
    "            \"id\" : ply['id'],\n",
    "            \"songs\" : ind3\n",
    "        })\n",
    "    \n",
    "my_ans4=[]\n",
    "for ply in my_ans1:\n",
    "    genre_combination = list(get_gnr_comb(my_ply['songs']).keys())\n",
    "    genre_weight = list(get_gnr_comb(my_ply['songs']).values())\n",
    "    genre_idx = [dtl_genre_ids.index(genre) for genre in genre_combination]\n",
    "    score = np.zeros(len(meta))\n",
    "    for i,genre_id in enumerate(genre_idx):\n",
    "        genre_vec = rec_s_g[genre_id, :]\n",
    "        score += genre_vec * genre_weight[i]\n",
    "    target_score = score[ply['songs']]\n",
    "    ind = np.argsort(-target_score)[:30]\n",
    "    indices = [ ply['songs'][i] for i in ind ]\n",
    "    my_ans4.append({\n",
    "            \"id\" : ply['id'],\n",
    "            \"songs\" : indices\n",
    "        })\n",
    "\n",
    "        \n",
    "    \n",
    "    \n",
    "    "
   ]
  },
  {
   "cell_type": "code",
   "execution_count": 96,
   "id": "1c23d9d0-4cbe-4fd2-a62f-587f1fec8f3e",
   "metadata": {},
   "outputs": [
    {
     "name": "stdout",
     "output_type": "stream",
     "text": [
      "Slide (Feat. Frank Ocean & Migos) ['Calvin Harris']\n",
      "Don`t Let Me Down (Feat. Daya) ['The Chainsmokers']\n",
      "Beggars ['Krewella', 'Diskord']\n",
      "모든 날, 모든 순간 (Every day, Every Moment) ['폴킴']\n",
      "눈의 꽃 ['박효신']\n",
      "You Like That ['Chris Brown']\n",
      "Snooze (feat. Cousin Stizz) ['Johnny Yukon']\n",
      "Sexy (feat. Trey Songz) ['Chris Brown']\n",
      "No Guidance (feat. Drake) ['Chris Brown']\n",
      "Take A Risk ['Chris Brown']\n"
     ]
    }
   ],
   "source": [
    "for s in my_ans3[0]['songs'][:10]:\n",
    "    print(meta.iloc[s]['song_name'], meta.iloc[s]['artist_name_basket'])"
   ]
  },
  {
   "cell_type": "code",
   "execution_count": 79,
   "id": "6a8fcbbc-8301-40b9-8708-2b858ad8f4d9",
   "metadata": {},
   "outputs": [
    {
     "name": "stdout",
     "output_type": "stream",
     "text": [
      "차렷! (Feat. 다이나믹 듀오, Tablo) ['TBNY']\n",
      "꿈이 뭐야 (Dream Chaser) (Feat. Dok2 & 크러쉬) ['GRAY (그레이)']\n",
      "City ['오왼 (Owen)']\n",
      "We Back ['MC Meta', '나찰', '라임어택 (RHYME-A-)', '넋업샨']\n",
      "위험해 (Dangerous) (Feat. 박재범) ['GRAY (그레이)']\n",
      "Same Boy (Feat. Loco) ['크루셜스타 (Crucial Star)']\n",
      "Good Times (Feat. Babylon) ['팔로알토 (Paloalto)']\n",
      "빙하 ['짙은']\n",
      "고백 ['뜨거운 감자']\n",
      "안아줘요 ['10CM']\n"
     ]
    }
   ],
   "source": [
    "for s in my_ans4[0]['songs'][:10]:\n",
    "    print(meta.iloc[s]['song_name'], meta.iloc[s]['artist_name_basket'])"
   ]
  }
 ],
 "metadata": {
  "kernelspec": {
   "display_name": "Python 3 (ipykernel)",
   "language": "python",
   "name": "python3"
  },
  "language_info": {
   "codemirror_mode": {
    "name": "ipython",
    "version": 3
   },
   "file_extension": ".py",
   "mimetype": "text/x-python",
   "name": "python",
   "nbconvert_exporter": "python",
   "pygments_lexer": "ipython3",
   "version": "3.11.8"
  }
 },
 "nbformat": 4,
 "nbformat_minor": 5
}
